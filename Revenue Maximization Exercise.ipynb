{
 "cells": [
  {
   "cell_type": "markdown",
   "id": "7c853712-4ef1-47d6-a2b1-c65e44580d89",
   "metadata": {},
   "source": [
    "## Importing laibs"
   ]
  },
  {
   "cell_type": "code",
   "execution_count": 1,
   "id": "fe09cd61-2bf5-446a-8be6-0226e176a9cc",
   "metadata": {},
   "outputs": [],
   "source": [
    "import pandas as pd \n",
    "import numpy as np \n",
    "\n",
    "import matplotlib.pyplot as plt \n",
    "import seaborn as sb \n",
    "%matplotlib inline\n",
    "\n",
    "import warnings\n",
    "\n",
    "# Ignore warnings\n",
    "warnings.filterwarnings(\"ignore\")"
   ]
  },
  {
   "cell_type": "markdown",
   "id": "c8192101-f6ea-4992-a3c0-1eb61c20b5e0",
   "metadata": {},
   "source": [
    "## Raw Data "
   ]
  },
  {
   "cell_type": "code",
   "execution_count": 2,
   "id": "21760f38-ea16-4555-90a5-f067db52a644",
   "metadata": {},
   "outputs": [],
   "source": [
    "df_raw = pd.read_excel(\"Data Hackathon Exercise - Sample Data Set.xlsx\")"
   ]
  },
  {
   "cell_type": "code",
   "execution_count": 3,
   "id": "a5af06d6-bc7e-4c4f-a517-e47af3e191bc",
   "metadata": {},
   "outputs": [
    {
     "data": {
      "text/html": [
       "<div>\n",
       "<style scoped>\n",
       "    .dataframe tbody tr th:only-of-type {\n",
       "        vertical-align: middle;\n",
       "    }\n",
       "\n",
       "    .dataframe tbody tr th {\n",
       "        vertical-align: top;\n",
       "    }\n",
       "\n",
       "    .dataframe thead th {\n",
       "        text-align: right;\n",
       "    }\n",
       "</style>\n",
       "<table border=\"1\" class=\"dataframe\">\n",
       "  <thead>\n",
       "    <tr style=\"text-align: right;\">\n",
       "      <th></th>\n",
       "      <th>Unnamed: 0</th>\n",
       "      <th>Upsell</th>\n",
       "      <th>Increasing instalment</th>\n",
       "      <th>Unnamed: 3</th>\n",
       "      <th>Unnamed: 4</th>\n",
       "      <th>Unnamed: 5</th>\n",
       "      <th>Unnamed: 6</th>\n",
       "      <th>Unnamed: 7</th>\n",
       "      <th>Unnamed: 8</th>\n",
       "      <th>Unnamed: 9</th>\n",
       "      <th>...</th>\n",
       "      <th>Unnamed: 52</th>\n",
       "      <th>Unnamed: 53</th>\n",
       "      <th>Unnamed: 54</th>\n",
       "      <th>Unnamed: 55</th>\n",
       "      <th>Unnamed: 56</th>\n",
       "      <th>Unnamed: 57</th>\n",
       "      <th>Unnamed: 58</th>\n",
       "      <th>Unnamed: 59</th>\n",
       "      <th>Unnamed: 60</th>\n",
       "      <th>Unnamed: 61</th>\n",
       "    </tr>\n",
       "  </thead>\n",
       "  <tbody>\n",
       "    <tr>\n",
       "      <th>0</th>\n",
       "      <td>NaN</td>\n",
       "      <td>Upgrade</td>\n",
       "      <td>Increasing term</td>\n",
       "      <td>NaN</td>\n",
       "      <td>NaN</td>\n",
       "      <td>NaN</td>\n",
       "      <td>NaN</td>\n",
       "      <td>NaN</td>\n",
       "      <td>NaN</td>\n",
       "      <td>NaN</td>\n",
       "      <td>...</td>\n",
       "      <td>NaN</td>\n",
       "      <td>NaN</td>\n",
       "      <td>NaN</td>\n",
       "      <td>NaN</td>\n",
       "      <td>NaN</td>\n",
       "      <td>NaN</td>\n",
       "      <td>NaN</td>\n",
       "      <td>NaN</td>\n",
       "      <td>NaN</td>\n",
       "      <td>NaN</td>\n",
       "    </tr>\n",
       "    <tr>\n",
       "      <th>1</th>\n",
       "      <td>NaN</td>\n",
       "      <td>NaN</td>\n",
       "      <td>NaN</td>\n",
       "      <td>NaN</td>\n",
       "      <td>NaN</td>\n",
       "      <td>NaN</td>\n",
       "      <td>NaN</td>\n",
       "      <td>NaN</td>\n",
       "      <td>NaN</td>\n",
       "      <td>NaN</td>\n",
       "      <td>...</td>\n",
       "      <td>NaN</td>\n",
       "      <td>NaN</td>\n",
       "      <td>NaN</td>\n",
       "      <td>NaN</td>\n",
       "      <td>NaN</td>\n",
       "      <td>NaN</td>\n",
       "      <td>NaN</td>\n",
       "      <td>NaN</td>\n",
       "      <td>NaN</td>\n",
       "      <td>NaN</td>\n",
       "    </tr>\n",
       "    <tr>\n",
       "      <th>2</th>\n",
       "      <td>Sales, by month</td>\n",
       "      <td>NaN</td>\n",
       "      <td>NaN</td>\n",
       "      <td>NaN</td>\n",
       "      <td>NaN</td>\n",
       "      <td>NaN</td>\n",
       "      <td>NaN</td>\n",
       "      <td>NaN</td>\n",
       "      <td>NaN</td>\n",
       "      <td>NaN</td>\n",
       "      <td>...</td>\n",
       "      <td>NaN</td>\n",
       "      <td>NaN</td>\n",
       "      <td>NaN</td>\n",
       "      <td>NaN</td>\n",
       "      <td>NaN</td>\n",
       "      <td>NaN</td>\n",
       "      <td>NaN</td>\n",
       "      <td>NaN</td>\n",
       "      <td>NaN</td>\n",
       "      <td>NaN</td>\n",
       "    </tr>\n",
       "    <tr>\n",
       "      <th>3</th>\n",
       "      <td>NaN</td>\n",
       "      <td>NaN</td>\n",
       "      <td>NaN</td>\n",
       "      <td>NaN</td>\n",
       "      <td>NaN</td>\n",
       "      <td>NaN</td>\n",
       "      <td>NaN</td>\n",
       "      <td>NaN</td>\n",
       "      <td>NaN</td>\n",
       "      <td>NaN</td>\n",
       "      <td>...</td>\n",
       "      <td>NaN</td>\n",
       "      <td>NaN</td>\n",
       "      <td>NaN</td>\n",
       "      <td>NaN</td>\n",
       "      <td>NaN</td>\n",
       "      <td>NaN</td>\n",
       "      <td>NaN</td>\n",
       "      <td>NaN</td>\n",
       "      <td>NaN</td>\n",
       "      <td>NaN</td>\n",
       "    </tr>\n",
       "    <tr>\n",
       "      <th>4</th>\n",
       "      <td>NaN</td>\n",
       "      <td>Month</td>\n",
       "      <td>2019-01-31 00:00:00</td>\n",
       "      <td>2019-02-28 00:00:00</td>\n",
       "      <td>2019-03-31 00:00:00</td>\n",
       "      <td>2019-04-30 00:00:00</td>\n",
       "      <td>2019-05-31 00:00:00</td>\n",
       "      <td>2019-06-30 00:00:00</td>\n",
       "      <td>2019-07-31 00:00:00</td>\n",
       "      <td>2019-08-31 00:00:00</td>\n",
       "      <td>...</td>\n",
       "      <td>2023-03-31 00:00:00</td>\n",
       "      <td>2023-04-30 00:00:00</td>\n",
       "      <td>2023-05-31 00:00:00</td>\n",
       "      <td>2023-06-30 00:00:00</td>\n",
       "      <td>2023-07-31 00:00:00</td>\n",
       "      <td>2023-08-31 00:00:00</td>\n",
       "      <td>2023-09-30 00:00:00</td>\n",
       "      <td>2023-10-31 00:00:00</td>\n",
       "      <td>2023-11-30 00:00:00</td>\n",
       "      <td>2023-12-31 00:00:00</td>\n",
       "    </tr>\n",
       "    <tr>\n",
       "      <th>5</th>\n",
       "      <td>NaN</td>\n",
       "      <td>Volume (units)</td>\n",
       "      <td>10000</td>\n",
       "      <td>10200</td>\n",
       "      <td>10404</td>\n",
       "      <td>10612</td>\n",
       "      <td>10824</td>\n",
       "      <td>11041</td>\n",
       "      <td>11262</td>\n",
       "      <td>11487</td>\n",
       "      <td>...</td>\n",
       "      <td>26916</td>\n",
       "      <td>27454</td>\n",
       "      <td>28003</td>\n",
       "      <td>28563</td>\n",
       "      <td>29135</td>\n",
       "      <td>29717</td>\n",
       "      <td>30312</td>\n",
       "      <td>30918</td>\n",
       "      <td>31536</td>\n",
       "      <td>32167</td>\n",
       "    </tr>\n",
       "  </tbody>\n",
       "</table>\n",
       "<p>6 rows × 62 columns</p>\n",
       "</div>"
      ],
      "text/plain": [
       "        Unnamed: 0          Upsell Increasing instalment           Unnamed: 3  \\\n",
       "0              NaN         Upgrade       Increasing term                  NaN   \n",
       "1              NaN             NaN                   NaN                  NaN   \n",
       "2  Sales, by month             NaN                   NaN                  NaN   \n",
       "3              NaN             NaN                   NaN                  NaN   \n",
       "4              NaN           Month   2019-01-31 00:00:00  2019-02-28 00:00:00   \n",
       "5              NaN  Volume (units)                 10000                10200   \n",
       "\n",
       "            Unnamed: 4           Unnamed: 5           Unnamed: 6  \\\n",
       "0                  NaN                  NaN                  NaN   \n",
       "1                  NaN                  NaN                  NaN   \n",
       "2                  NaN                  NaN                  NaN   \n",
       "3                  NaN                  NaN                  NaN   \n",
       "4  2019-03-31 00:00:00  2019-04-30 00:00:00  2019-05-31 00:00:00   \n",
       "5                10404                10612                10824   \n",
       "\n",
       "            Unnamed: 7           Unnamed: 8           Unnamed: 9  ...  \\\n",
       "0                  NaN                  NaN                  NaN  ...   \n",
       "1                  NaN                  NaN                  NaN  ...   \n",
       "2                  NaN                  NaN                  NaN  ...   \n",
       "3                  NaN                  NaN                  NaN  ...   \n",
       "4  2019-06-30 00:00:00  2019-07-31 00:00:00  2019-08-31 00:00:00  ...   \n",
       "5                11041                11262                11487  ...   \n",
       "\n",
       "           Unnamed: 52          Unnamed: 53          Unnamed: 54  \\\n",
       "0                  NaN                  NaN                  NaN   \n",
       "1                  NaN                  NaN                  NaN   \n",
       "2                  NaN                  NaN                  NaN   \n",
       "3                  NaN                  NaN                  NaN   \n",
       "4  2023-03-31 00:00:00  2023-04-30 00:00:00  2023-05-31 00:00:00   \n",
       "5                26916                27454                28003   \n",
       "\n",
       "           Unnamed: 55          Unnamed: 56          Unnamed: 57  \\\n",
       "0                  NaN                  NaN                  NaN   \n",
       "1                  NaN                  NaN                  NaN   \n",
       "2                  NaN                  NaN                  NaN   \n",
       "3                  NaN                  NaN                  NaN   \n",
       "4  2023-06-30 00:00:00  2023-07-31 00:00:00  2023-08-31 00:00:00   \n",
       "5                28563                29135                29717   \n",
       "\n",
       "           Unnamed: 58          Unnamed: 59          Unnamed: 60  \\\n",
       "0                  NaN                  NaN                  NaN   \n",
       "1                  NaN                  NaN                  NaN   \n",
       "2                  NaN                  NaN                  NaN   \n",
       "3                  NaN                  NaN                  NaN   \n",
       "4  2023-09-30 00:00:00  2023-10-31 00:00:00  2023-11-30 00:00:00   \n",
       "5                30312                30918                31536   \n",
       "\n",
       "           Unnamed: 61  \n",
       "0                  NaN  \n",
       "1                  NaN  \n",
       "2                  NaN  \n",
       "3                  NaN  \n",
       "4  2023-12-31 00:00:00  \n",
       "5                32167  \n",
       "\n",
       "[6 rows x 62 columns]"
      ]
     },
     "execution_count": 3,
     "metadata": {},
     "output_type": "execute_result"
    }
   ],
   "source": [
    "df_raw"
   ]
  },
  {
   "cell_type": "markdown",
   "id": "9991b664-67c9-4342-88e0-c61ba755cd91",
   "metadata": {},
   "source": [
    "**will be difficult working with this data in the foramt**"
   ]
  },
  {
   "cell_type": "markdown",
   "id": "6e8ee03f-4d6c-4114-8158-2051056b79ab",
   "metadata": {},
   "source": [
    "## Comming up with an Ideal data set"
   ]
  },
  {
   "cell_type": "code",
   "execution_count": 4,
   "id": "83d8d9fd-1b70-4f7b-8ab4-47cd55019dba",
   "metadata": {},
   "outputs": [],
   "source": [
    "data = {\n",
    "    'Month': [\"1/31/19\", \"2/28/19\", \"3/31/19\", \"4/30/19\", \"5/31/19\", \"6/30/19\", \"7/31/19\", \"8/31/19\", \"9/30/19\", \"10/31/19\", \"11/30/19\", \"12/31/19\", \"1/31/20\", \"2/29/20\", \"3/31/20\", \"4/30/20\", \"5/31/20\", \"6/30/20\", \"7/31/20\", \"8/31/20\", \"9/30/20\", \"10/31/20\", \"11/30/20\", \"12/31/20\", \"1/31/21\", \"2/28/21\", \"3/31/21\", \"4/30/21\", \"5/31/21\", \"6/30/21\", \"7/31/21\", \"8/31/21\", \"9/30/21\", \"10/31/21\", \"11/30/21\", \"12/31/21\", \"1/31/22\", \"2/28/22\", \"3/31/22\", \"4/30/22\", \"5/31/22\", \"6/30/22\", \"7/31/22\", \"8/31/22\", \"9/30/22\", \"10/31/22\", \"11/30/22\", \"12/31/22\", \"1/31/23\", \"2/28/23\", \"3/31/23\", \"4/30/23\", \"5/31/23\", \"6/30/23\", \"7/31/23\", \"8/31/23\", \"9/30/23\", \"10/31/23\", \"11/30/23\", \"12/31/23\"\n",
    "],\n",
    "    'Volume (units)': [10000, 10200, 10404, 10612, 10824, 11041, 11262, 11487, 11717, 11951, 12190, 12434, 12682, 12936, 13195, 13459, 13728, 14002, 14282, 14568, 14859, 15157, 15460, 15769, 16084, 16406, 16734, 17069, 17410, 17758, 18114, 18476, 18845, 19222, 19607, 19999, 20399, 20807, 21223, 21647, 22080, 22522, 22972, 23432, 23901, 24379, 24866, 25363, 25871, 26388, 26916, 27454, 28003, 28563, 29135, 29717, 30312, 30918, 31536, 32167\n",
    "]\n",
    "}"
   ]
  },
  {
   "cell_type": "code",
   "execution_count": 5,
   "id": "79d21f1f-6f53-4f91-8ef1-8766133c2bbb",
   "metadata": {},
   "outputs": [],
   "source": [
    "# Create a DataFrame\n",
    "df = pd.DataFrame(data)"
   ]
  },
  {
   "cell_type": "code",
   "execution_count": 6,
   "id": "6b5eb048-0598-4651-91ef-2b29fc487abd",
   "metadata": {},
   "outputs": [
    {
     "data": {
      "text/plain": [
       "(60, 2)"
      ]
     },
     "execution_count": 6,
     "metadata": {},
     "output_type": "execute_result"
    }
   ],
   "source": [
    "df.shape"
   ]
  },
  {
   "cell_type": "code",
   "execution_count": 7,
   "id": "835775ef-34a7-4d78-8c63-ff09eb785f43",
   "metadata": {},
   "outputs": [
    {
     "data": {
      "text/html": [
       "<div>\n",
       "<style scoped>\n",
       "    .dataframe tbody tr th:only-of-type {\n",
       "        vertical-align: middle;\n",
       "    }\n",
       "\n",
       "    .dataframe tbody tr th {\n",
       "        vertical-align: top;\n",
       "    }\n",
       "\n",
       "    .dataframe thead th {\n",
       "        text-align: right;\n",
       "    }\n",
       "</style>\n",
       "<table border=\"1\" class=\"dataframe\">\n",
       "  <thead>\n",
       "    <tr style=\"text-align: right;\">\n",
       "      <th></th>\n",
       "      <th>Month</th>\n",
       "      <th>Volume (units)</th>\n",
       "    </tr>\n",
       "  </thead>\n",
       "  <tbody>\n",
       "    <tr>\n",
       "      <th>0</th>\n",
       "      <td>1/31/19</td>\n",
       "      <td>10000</td>\n",
       "    </tr>\n",
       "    <tr>\n",
       "      <th>1</th>\n",
       "      <td>2/28/19</td>\n",
       "      <td>10200</td>\n",
       "    </tr>\n",
       "    <tr>\n",
       "      <th>2</th>\n",
       "      <td>3/31/19</td>\n",
       "      <td>10404</td>\n",
       "    </tr>\n",
       "    <tr>\n",
       "      <th>3</th>\n",
       "      <td>4/30/19</td>\n",
       "      <td>10612</td>\n",
       "    </tr>\n",
       "    <tr>\n",
       "      <th>4</th>\n",
       "      <td>5/31/19</td>\n",
       "      <td>10824</td>\n",
       "    </tr>\n",
       "  </tbody>\n",
       "</table>\n",
       "</div>"
      ],
      "text/plain": [
       "     Month  Volume (units)\n",
       "0  1/31/19           10000\n",
       "1  2/28/19           10200\n",
       "2  3/31/19           10404\n",
       "3  4/30/19           10612\n",
       "4  5/31/19           10824"
      ]
     },
     "execution_count": 7,
     "metadata": {},
     "output_type": "execute_result"
    }
   ],
   "source": [
    "df.head()"
   ]
  },
  {
   "cell_type": "code",
   "execution_count": 8,
   "id": "8a2211a2-e14f-4591-b8ca-ed61634f9c05",
   "metadata": {},
   "outputs": [
    {
     "data": {
      "text/plain": [
       "count       60.000000\n",
       "mean     19008.566667\n",
       "std       6498.493800\n",
       "min      10000.000000\n",
       "25%      13393.000000\n",
       "50%      17936.000000\n",
       "75%      24020.500000\n",
       "max      32167.000000\n",
       "Name: Volume (units), dtype: float64"
      ]
     },
     "execution_count": 8,
     "metadata": {},
     "output_type": "execute_result"
    }
   ],
   "source": [
    "df[\"Volume (units)\"].describe()"
   ]
  },
  {
   "cell_type": "code",
   "execution_count": 9,
   "id": "15185ecc-b11c-4b74-9962-32a408792f57",
   "metadata": {},
   "outputs": [],
   "source": [
    "# Convert 'Month' column to datetime type\n",
    "df['Month'] = pd.to_datetime(df['Month'])"
   ]
  },
  {
   "cell_type": "code",
   "execution_count": 10,
   "id": "4fa12e26-2829-4dc5-8bd1-73301f575ea7",
   "metadata": {},
   "outputs": [],
   "source": [
    "# Extracting day, month, and year\n",
    "df['Day'] = df['Month'].dt.day\n",
    "df['Month_Num'] = df['Month'].dt.month\n",
    "df['Year'] = df['Month'].dt.year"
   ]
  },
  {
   "cell_type": "code",
   "execution_count": 11,
   "id": "169b23fe-7bb5-41b4-a843-cf8a0bf9eb48",
   "metadata": {},
   "outputs": [
    {
     "name": "stdout",
     "output_type": "stream",
     "text": [
      "Monthly volume sales:\n",
      " Month\n",
      "2019-01    10000\n",
      "2019-02    10200\n",
      "2019-03    10404\n",
      "2019-04    10612\n",
      "2019-05    10824\n",
      "2019-06    11041\n",
      "2019-07    11262\n",
      "2019-08    11487\n",
      "2019-09    11717\n",
      "2019-10    11951\n",
      "2019-11    12190\n",
      "2019-12    12434\n",
      "2020-01    12682\n",
      "2020-02    12936\n",
      "2020-03    13195\n",
      "2020-04    13459\n",
      "2020-05    13728\n",
      "2020-06    14002\n",
      "2020-07    14282\n",
      "2020-08    14568\n",
      "2020-09    14859\n",
      "2020-10    15157\n",
      "2020-11    15460\n",
      "2020-12    15769\n",
      "2021-01    16084\n",
      "2021-02    16406\n",
      "2021-03    16734\n",
      "2021-04    17069\n",
      "2021-05    17410\n",
      "2021-06    17758\n",
      "2021-07    18114\n",
      "2021-08    18476\n",
      "2021-09    18845\n",
      "2021-10    19222\n",
      "2021-11    19607\n",
      "2021-12    19999\n",
      "2022-01    20399\n",
      "2022-02    20807\n",
      "2022-03    21223\n",
      "2022-04    21647\n",
      "2022-05    22080\n",
      "2022-06    22522\n",
      "2022-07    22972\n",
      "2022-08    23432\n",
      "2022-09    23901\n",
      "2022-10    24379\n",
      "2022-11    24866\n",
      "2022-12    25363\n",
      "2023-01    25871\n",
      "2023-02    26388\n",
      "2023-03    26916\n",
      "2023-04    27454\n",
      "2023-05    28003\n",
      "2023-06    28563\n",
      "2023-07    29135\n",
      "2023-08    29717\n",
      "2023-09    30312\n",
      "2023-10    30918\n",
      "2023-11    31536\n",
      "2023-12    32167\n",
      "Freq: M, Name: Volume (units), dtype: int64\n"
     ]
    }
   ],
   "source": [
    "# Monthly volume sales\n",
    "monthly_sales = df.groupby(df['Month'].dt.to_period('M'))['Volume (units)'].sum()\n",
    "\n",
    "# Daily volume sales\n",
    "daily_sales = df.groupby(['Month', 'Day'])['Volume (units)'].sum()\n",
    "\n",
    "# Yearly volume sales\n",
    "yearly_sales = df.groupby(df['Year'])['Volume (units)'].sum()\n",
    "\n",
    "# Print results\n",
    "print(\"Monthly volume sales:\\n\", monthly_sales.T)"
   ]
  },
  {
   "cell_type": "code",
   "execution_count": 12,
   "id": "5ea83273-29f6-41f8-9da3-eae624163204",
   "metadata": {},
   "outputs": [
    {
     "data": {
      "image/png": "[encoded data removed]",
      "text/plain": [
       "<Figure size 1000x600 with 1 Axes>"
      ]
     },
     "metadata": {},
     "output_type": "display_data"
    }
   ],
   "source": [
    "# Plot monthly volume sales\n",
    "plt.figure(figsize=(10, 6))\n",
    "monthly_sales.plot(kind='bar', color='skyblue')\n",
    "plt.title('Monthly Volume Sales')\n",
    "plt.xlabel('Month')\n",
    "plt.ylabel('Volume (units)')\n",
    "plt.xticks(rotation=90, ha='right')  # Rotate x-axis labels and align to the right\n",
    "plt.tight_layout()\n",
    "plt.show()"
   ]
  },
  {
   "cell_type": "markdown",
   "id": "c3adcbb7-dc49-47cb-b186-41d27149ee06",
   "metadata": {},
   "source": [
    "**Upward trend** "
   ]
  },
  {
   "cell_type": "code",
   "execution_count": 13,
   "id": "3ed3baf3-ec55-4a20-8df1-d9719246e004",
   "metadata": {},
   "outputs": [
    {
     "name": "stdout",
     "output_type": "stream",
     "text": [
      "\n",
      "Daily volume sales:\n",
      " Month       Day\n",
      "2019-01-31  31     10000\n",
      "2019-02-28  28     10200\n",
      "2019-03-31  31     10404\n",
      "2019-04-30  30     10612\n",
      "2019-05-31  31     10824\n",
      "2019-06-30  30     11041\n",
      "2019-07-31  31     11262\n",
      "2019-08-31  31     11487\n",
      "2019-09-30  30     11717\n",
      "2019-10-31  31     11951\n",
      "2019-11-30  30     12190\n",
      "2019-12-31  31     12434\n",
      "2020-01-31  31     12682\n",
      "2020-02-29  29     12936\n",
      "2020-03-31  31     13195\n",
      "2020-04-30  30     13459\n",
      "2020-05-31  31     13728\n",
      "2020-06-30  30     14002\n",
      "2020-07-31  31     14282\n",
      "2020-08-31  31     14568\n",
      "2020-09-30  30     14859\n",
      "2020-10-31  31     15157\n",
      "2020-11-30  30     15460\n",
      "2020-12-31  31     15769\n",
      "2021-01-31  31     16084\n",
      "2021-02-28  28     16406\n",
      "2021-03-31  31     16734\n",
      "2021-04-30  30     17069\n",
      "2021-05-31  31     17410\n",
      "2021-06-30  30     17758\n",
      "2021-07-31  31     18114\n",
      "2021-08-31  31     18476\n",
      "2021-09-30  30     18845\n",
      "2021-10-31  31     19222\n",
      "2021-11-30  30     19607\n",
      "2021-12-31  31     19999\n",
      "2022-01-31  31     20399\n",
      "2022-02-28  28     20807\n",
      "2022-03-31  31     21223\n",
      "2022-04-30  30     21647\n",
      "2022-05-31  31     22080\n",
      "2022-06-30  30     22522\n",
      "2022-07-31  31     22972\n",
      "2022-08-31  31     23432\n",
      "2022-09-30  30     23901\n",
      "2022-10-31  31     24379\n",
      "2022-11-30  30     24866\n",
      "2022-12-31  31     25363\n",
      "2023-01-31  31     25871\n",
      "2023-02-28  28     26388\n",
      "2023-03-31  31     26916\n",
      "2023-04-30  30     27454\n",
      "2023-05-31  31     28003\n",
      "2023-06-30  30     28563\n",
      "2023-07-31  31     29135\n",
      "2023-08-31  31     29717\n",
      "2023-09-30  30     30312\n",
      "2023-10-31  31     30918\n",
      "2023-11-30  30     31536\n",
      "2023-12-31  31     32167\n",
      "Name: Volume (units), dtype: int64\n"
     ]
    }
   ],
   "source": [
    "print(\"\\nDaily volume sales:\\n\", daily_sales)"
   ]
  },
  {
   "cell_type": "code",
   "execution_count": 14,
   "id": "03eaf653-cb10-48ca-8d63-4fc83d47180b",
   "metadata": {},
   "outputs": [
    {
     "data": {
      "image/png": "[encoded data removed]",
      "text/plain": [
       "<Figure size 1200x600 with 1 Axes>"
      ]
     },
     "metadata": {},
     "output_type": "display_data"
    }
   ],
   "source": [
    "# Convert daily_sales to DataFrame for easier plotting\n",
    "daily_sales_df = daily_sales.reset_index()\n",
    "\n",
    "# Plot daily volume sales\n",
    "plt.figure(figsize=(12, 6))\n",
    "plt.plot(daily_sales_df['Month'], daily_sales_df['Volume (units)'], marker='o', color='orange')\n",
    "plt.title('Daily Volume Sales')\n",
    "plt.xlabel('Date')\n",
    "plt.ylabel('Volume (units)')\n",
    "plt.xticks(rotation=45)\n",
    "plt.grid(True)\n",
    "plt.tight_layout()\n",
    "plt.show()"
   ]
  },
  {
   "cell_type": "markdown",
   "id": "96ae0614-90ba-4658-9f8b-4623f271e74f",
   "metadata": {},
   "source": [
    "**Nice Upward trend**"
   ]
  },
  {
   "cell_type": "code",
   "execution_count": 15,
   "id": "c79bb79c-e34e-481b-913c-62813e79a05f",
   "metadata": {},
   "outputs": [
    {
     "name": "stdout",
     "output_type": "stream",
     "text": [
      "\n",
      "Yearly volume sales:\n",
      " Year\n",
      "2019    134122\n",
      "2020    170097\n",
      "2021    215724\n",
      "2022    273591\n",
      "2023    346980\n",
      "Name: Volume (units), dtype: int64\n"
     ]
    }
   ],
   "source": [
    "print(\"\\nYearly volume sales:\\n\", yearly_sales)"
   ]
  },
  {
   "cell_type": "code",
   "execution_count": 16,
   "id": "84d80c14-4cd2-48a3-a882-64df7ceb351f",
   "metadata": {},
   "outputs": [
    {
     "data": {
      "image/png": "[encoded data removed]",
      "text/plain": [
       "<Figure size 800x600 with 1 Axes>"
      ]
     },
     "metadata": {},
     "output_type": "display_data"
    }
   ],
   "source": [
    "# Plot yearly volume sales\n",
    "plt.figure(figsize=(8, 6))\n",
    "yearly_sales.plot(kind='bar', color='orange')\n",
    "plt.title('Yearly Volume Sales')\n",
    "plt.xlabel('Year')\n",
    "plt.ylabel('Volume (units)')\n",
    "plt.xticks(rotation=45)\n",
    "plt.tight_layout()\n",
    "plt.show()"
   ]
  },
  {
   "cell_type": "markdown",
   "id": "a5b6a451-0c48-4eb3-b39d-c735de2701c6",
   "metadata": {},
   "source": [
    "**There is an uprize in Volume (Units) as the years go by**"
   ]
  },
  {
   "cell_type": "code",
   "execution_count": 17,
   "id": "e41bb2af-b7f2-46d5-952a-96bd129585cc",
   "metadata": {},
   "outputs": [
    {
     "data": {
      "text/html": [
       "<div>\n",
       "<style scoped>\n",
       "    .dataframe tbody tr th:only-of-type {\n",
       "        vertical-align: middle;\n",
       "    }\n",
       "\n",
       "    .dataframe tbody tr th {\n",
       "        vertical-align: top;\n",
       "    }\n",
       "\n",
       "    .dataframe thead th {\n",
       "        text-align: right;\n",
       "    }\n",
       "</style>\n",
       "<table border=\"1\" class=\"dataframe\">\n",
       "  <thead>\n",
       "    <tr style=\"text-align: right;\">\n",
       "      <th></th>\n",
       "      <th>Month</th>\n",
       "      <th>Volume (units)</th>\n",
       "      <th>Day</th>\n",
       "      <th>Month_Num</th>\n",
       "      <th>Year</th>\n",
       "    </tr>\n",
       "  </thead>\n",
       "  <tbody>\n",
       "    <tr>\n",
       "      <th>0</th>\n",
       "      <td>2019-01-31</td>\n",
       "      <td>10000</td>\n",
       "      <td>31</td>\n",
       "      <td>1</td>\n",
       "      <td>2019</td>\n",
       "    </tr>\n",
       "    <tr>\n",
       "      <th>1</th>\n",
       "      <td>2019-02-28</td>\n",
       "      <td>10200</td>\n",
       "      <td>28</td>\n",
       "      <td>2</td>\n",
       "      <td>2019</td>\n",
       "    </tr>\n",
       "    <tr>\n",
       "      <th>2</th>\n",
       "      <td>2019-03-31</td>\n",
       "      <td>10404</td>\n",
       "      <td>31</td>\n",
       "      <td>3</td>\n",
       "      <td>2019</td>\n",
       "    </tr>\n",
       "    <tr>\n",
       "      <th>3</th>\n",
       "      <td>2019-04-30</td>\n",
       "      <td>10612</td>\n",
       "      <td>30</td>\n",
       "      <td>4</td>\n",
       "      <td>2019</td>\n",
       "    </tr>\n",
       "    <tr>\n",
       "      <th>4</th>\n",
       "      <td>2019-05-31</td>\n",
       "      <td>10824</td>\n",
       "      <td>31</td>\n",
       "      <td>5</td>\n",
       "      <td>2019</td>\n",
       "    </tr>\n",
       "  </tbody>\n",
       "</table>\n",
       "</div>"
      ],
      "text/plain": [
       "       Month  Volume (units)  Day  Month_Num  Year\n",
       "0 2019-01-31           10000   31          1  2019\n",
       "1 2019-02-28           10200   28          2  2019\n",
       "2 2019-03-31           10404   31          3  2019\n",
       "3 2019-04-30           10612   30          4  2019\n",
       "4 2019-05-31           10824   31          5  2019"
      ]
     },
     "execution_count": 17,
     "metadata": {},
     "output_type": "execute_result"
    }
   ],
   "source": [
    "df.head()"
   ]
  },
  {
   "cell_type": "code",
   "execution_count": 18,
   "id": "6705e8b3-55ab-407f-bc73-c731dcf8f9b2",
   "metadata": {},
   "outputs": [
    {
     "data": {
      "text/plain": [
       "Month             0\n",
       "Volume (units)    0\n",
       "Day               0\n",
       "Month_Num         0\n",
       "Year              0\n",
       "dtype: int64"
      ]
     },
     "execution_count": 18,
     "metadata": {},
     "output_type": "execute_result"
    }
   ],
   "source": [
    "df.isnull().sum()"
   ]
  },
  {
   "cell_type": "markdown",
   "id": "e676fa9d-ad42-4e40-ac0a-e73b60204d1f",
   "metadata": {},
   "source": [
    "## Loan Eligibility:"
   ]
  },
  {
   "cell_type": "code",
   "execution_count": 19,
   "id": "f23c9364-f528-4423-a103-6682cac26058",
   "metadata": {},
   "outputs": [],
   "source": [
    "# Calculate loan eligibility\n",
    "df['CashLoanEligible'] = 1  # Assuming all customers are initially eligible\n",
    "df['TVUpgradeEligible'] = 1  # Assuming all customers are initially eligible for TV upgrades"
   ]
  },
  {
   "cell_type": "markdown",
   "id": "d12b1513-8ef7-4db6-81bd-02d26454ae1e",
   "metadata": {},
   "source": [
    "**We'll assume all customers are initially eligible for both cash loans and TV upgrades.**"
   ]
  },
  {
   "cell_type": "markdown",
   "id": "cd962d5f-5f5f-4c09-9111-2bb9baee6d6c",
   "metadata": {},
   "source": [
    "## Purchase Probability:"
   ]
  },
  {
   "cell_type": "code",
   "execution_count": 20,
   "id": "7ca5e9ba-e245-4c62-a5ff-eb37e90a5191",
   "metadata": {},
   "outputs": [],
   "source": [
    "# Calculate purchase probability\n",
    "df['CashLoanPurchaseProb'] = 0.9  # 90% purchase probability for eligible customers\n",
    "df['TVUpgradePurchaseProb'] = 0.5  # 50% purchase probability for eligible customers"
   ]
  },
  {
   "cell_type": "markdown",
   "id": "a06c75c0-ce48-43c8-b6eb-90196299a6e3",
   "metadata": {},
   "source": [
    "**We'll assign purchase probabilities based on the provided assumptions (90% for cash loans and 50% for TV upgrades).**"
   ]
  },
  {
   "cell_type": "markdown",
   "id": "f2479e14-254a-4964-a398-29b1d527f3d9",
   "metadata": {},
   "source": [
    "## Loan Duration:"
   ]
  },
  {
   "cell_type": "code",
   "execution_count": 21,
   "id": "10dcd693-3ecb-4a47-ad41-2d57f415f109",
   "metadata": {},
   "outputs": [],
   "source": [
    "# Calculate loan duration\n",
    "df['CashLoanDuration'] = 400  # Days from purchase to finished payment for eligible loans\n",
    "df['TVUpgradeDuration'] = 0  # TV upgrades must be purchased the day the Classic loan is finished"
   ]
  },
  {
   "cell_type": "markdown",
   "id": "1537bbce-2e03-4dd4-aacc-18983ae13d93",
   "metadata": {},
   "source": [
    "**We'll set the duration of cash loans to 400 days and TV upgrades to 0 days (indicating they must be purchased the day the Classic loan is finished).**"
   ]
  },
  {
   "cell_type": "markdown",
   "id": "6ada17c2-cda7-4d89-a4e2-75c8fed6375f",
   "metadata": {},
   "source": [
    "## Profit per Loan:"
   ]
  },
  {
   "cell_type": "code",
   "execution_count": 22,
   "id": "0e50e64d-0069-42c7-a664-7cba1e5b809d",
   "metadata": {},
   "outputs": [],
   "source": [
    "# Calculate profit per loan\n",
    "df['ProfitPerCashLoan'] = 25  # Profit margin for cash loans\n",
    "df['ProfitPerTVUpgrade'] = 150  # Profit margin for TV upgrades"
   ]
  },
  {
   "cell_type": "markdown",
   "id": "8f0a1ce1-5eed-4c41-94e4-a8fd9525e295",
   "metadata": {},
   "source": [
    "**We'll set the profit per cash loan to $25 and per TV upgrade to $150.**"
   ]
  },
  {
   "cell_type": "markdown",
   "id": "4a9cb922-5edc-410c-872c-d221b9c9e50f",
   "metadata": {},
   "source": [
    "## Discount Rate:"
   ]
  },
  {
   "cell_type": "code",
   "execution_count": 23,
   "id": "a340cd7c-8f97-45ed-a97d-6061db36d70e",
   "metadata": {},
   "outputs": [],
   "source": [
    "# Apply discount rate\n",
    "discount_rate = 0.15\n",
    "df['ProfitPerCashLoanDiscounted'] = df['ProfitPerCashLoan'] / ((1 + discount_rate) ** (df['CashLoanDuration'] / 365))\n",
    "df['ProfitPerTVUpgradeDiscounted'] = df['ProfitPerTVUpgrade'] / ((1 + discount_rate) ** (df['TVUpgradeDuration'] / 365))"
   ]
  },
  {
   "cell_type": "markdown",
   "id": "6040dead-3d21-4a60-97b9-90f52c428770",
   "metadata": {},
   "source": [
    "**We'll apply an annual discount rate of 15%.**"
   ]
  },
  {
   "cell_type": "code",
   "execution_count": 24,
   "id": "db7e2d5e-4f7d-4c16-a7dc-08b432217d40",
   "metadata": {},
   "outputs": [
    {
     "data": {
      "text/html": [
       "<div>\n",
       "<style scoped>\n",
       "    .dataframe tbody tr th:only-of-type {\n",
       "        vertical-align: middle;\n",
       "    }\n",
       "\n",
       "    .dataframe tbody tr th {\n",
       "        vertical-align: top;\n",
       "    }\n",
       "\n",
       "    .dataframe thead th {\n",
       "        text-align: right;\n",
       "    }\n",
       "</style>\n",
       "<table border=\"1\" class=\"dataframe\">\n",
       "  <thead>\n",
       "    <tr style=\"text-align: right;\">\n",
       "      <th></th>\n",
       "      <th>Month</th>\n",
       "      <th>Volume (units)</th>\n",
       "      <th>Day</th>\n",
       "      <th>Month_Num</th>\n",
       "      <th>Year</th>\n",
       "      <th>CashLoanEligible</th>\n",
       "      <th>TVUpgradeEligible</th>\n",
       "      <th>CashLoanPurchaseProb</th>\n",
       "      <th>TVUpgradePurchaseProb</th>\n",
       "      <th>CashLoanDuration</th>\n",
       "      <th>TVUpgradeDuration</th>\n",
       "      <th>ProfitPerCashLoan</th>\n",
       "      <th>ProfitPerTVUpgrade</th>\n",
       "      <th>ProfitPerCashLoanDiscounted</th>\n",
       "      <th>ProfitPerTVUpgradeDiscounted</th>\n",
       "    </tr>\n",
       "  </thead>\n",
       "  <tbody>\n",
       "    <tr>\n",
       "      <th>0</th>\n",
       "      <td>2019-01-31</td>\n",
       "      <td>10000</td>\n",
       "      <td>31</td>\n",
       "      <td>1</td>\n",
       "      <td>2019</td>\n",
       "      <td>1</td>\n",
       "      <td>1</td>\n",
       "      <td>0.9</td>\n",
       "      <td>0.5</td>\n",
       "      <td>400</td>\n",
       "      <td>0</td>\n",
       "      <td>25</td>\n",
       "      <td>150</td>\n",
       "      <td>21.44973</td>\n",
       "      <td>150.0</td>\n",
       "    </tr>\n",
       "    <tr>\n",
       "      <th>1</th>\n",
       "      <td>2019-02-28</td>\n",
       "      <td>10200</td>\n",
       "      <td>28</td>\n",
       "      <td>2</td>\n",
       "      <td>2019</td>\n",
       "      <td>1</td>\n",
       "      <td>1</td>\n",
       "      <td>0.9</td>\n",
       "      <td>0.5</td>\n",
       "      <td>400</td>\n",
       "      <td>0</td>\n",
       "      <td>25</td>\n",
       "      <td>150</td>\n",
       "      <td>21.44973</td>\n",
       "      <td>150.0</td>\n",
       "    </tr>\n",
       "    <tr>\n",
       "      <th>2</th>\n",
       "      <td>2019-03-31</td>\n",
       "      <td>10404</td>\n",
       "      <td>31</td>\n",
       "      <td>3</td>\n",
       "      <td>2019</td>\n",
       "      <td>1</td>\n",
       "      <td>1</td>\n",
       "      <td>0.9</td>\n",
       "      <td>0.5</td>\n",
       "      <td>400</td>\n",
       "      <td>0</td>\n",
       "      <td>25</td>\n",
       "      <td>150</td>\n",
       "      <td>21.44973</td>\n",
       "      <td>150.0</td>\n",
       "    </tr>\n",
       "    <tr>\n",
       "      <th>3</th>\n",
       "      <td>2019-04-30</td>\n",
       "      <td>10612</td>\n",
       "      <td>30</td>\n",
       "      <td>4</td>\n",
       "      <td>2019</td>\n",
       "      <td>1</td>\n",
       "      <td>1</td>\n",
       "      <td>0.9</td>\n",
       "      <td>0.5</td>\n",
       "      <td>400</td>\n",
       "      <td>0</td>\n",
       "      <td>25</td>\n",
       "      <td>150</td>\n",
       "      <td>21.44973</td>\n",
       "      <td>150.0</td>\n",
       "    </tr>\n",
       "    <tr>\n",
       "      <th>4</th>\n",
       "      <td>2019-05-31</td>\n",
       "      <td>10824</td>\n",
       "      <td>31</td>\n",
       "      <td>5</td>\n",
       "      <td>2019</td>\n",
       "      <td>1</td>\n",
       "      <td>1</td>\n",
       "      <td>0.9</td>\n",
       "      <td>0.5</td>\n",
       "      <td>400</td>\n",
       "      <td>0</td>\n",
       "      <td>25</td>\n",
       "      <td>150</td>\n",
       "      <td>21.44973</td>\n",
       "      <td>150.0</td>\n",
       "    </tr>\n",
       "  </tbody>\n",
       "</table>\n",
       "</div>"
      ],
      "text/plain": [
       "       Month  Volume (units)  Day  Month_Num  Year  CashLoanEligible  \\\n",
       "0 2019-01-31           10000   31          1  2019                 1   \n",
       "1 2019-02-28           10200   28          2  2019                 1   \n",
       "2 2019-03-31           10404   31          3  2019                 1   \n",
       "3 2019-04-30           10612   30          4  2019                 1   \n",
       "4 2019-05-31           10824   31          5  2019                 1   \n",
       "\n",
       "   TVUpgradeEligible  CashLoanPurchaseProb  TVUpgradePurchaseProb  \\\n",
       "0                  1                   0.9                    0.5   \n",
       "1                  1                   0.9                    0.5   \n",
       "2                  1                   0.9                    0.5   \n",
       "3                  1                   0.9                    0.5   \n",
       "4                  1                   0.9                    0.5   \n",
       "\n",
       "   CashLoanDuration  TVUpgradeDuration  ProfitPerCashLoan  ProfitPerTVUpgrade  \\\n",
       "0               400                  0                 25                 150   \n",
       "1               400                  0                 25                 150   \n",
       "2               400                  0                 25                 150   \n",
       "3               400                  0                 25                 150   \n",
       "4               400                  0                 25                 150   \n",
       "\n",
       "   ProfitPerCashLoanDiscounted  ProfitPerTVUpgradeDiscounted  \n",
       "0                     21.44973                         150.0  \n",
       "1                     21.44973                         150.0  \n",
       "2                     21.44973                         150.0  \n",
       "3                     21.44973                         150.0  \n",
       "4                     21.44973                         150.0  "
      ]
     },
     "execution_count": 24,
     "metadata": {},
     "output_type": "execute_result"
    }
   ],
   "source": [
    "df.head() "
   ]
  },
  {
   "cell_type": "code",
   "execution_count": 25,
   "id": "8877faeb-e437-491b-82a7-eebf3220d646",
   "metadata": {},
   "outputs": [],
   "source": [
    "cash_loan_duration = 400  # Duration of cash loans (days)\n",
    "tv_upgrade_duration = 0  # Duration of TV upgrades (days)\n",
    "profit_per_cash_loan = 25  # Profit margin for cash loans\n",
    "profit_per_tv_upgrade = 150  # Profit margin for TV upgrades"
   ]
  },
  {
   "cell_type": "code",
   "execution_count": 26,
   "id": "a5b78177-ebfd-4aa6-965f-ad299331ceb8",
   "metadata": {},
   "outputs": [],
   "source": [
    "# Filter data for 2023\n",
    "df_2023 = df[df['Year'] == 2023]"
   ]
  },
  {
   "cell_type": "code",
   "execution_count": 27,
   "id": "642a113f-38f6-4527-b740-5c0c30cdf32a",
   "metadata": {},
   "outputs": [],
   "source": [
    "# Calculate number of cash loans and TV upgrades sold by month in 2023\n",
    "num_cash_loans = (df_2023['CashLoanEligible'] * df_2023['CashLoanPurchaseProb']).sum()\n",
    "num_tv_upgrades = (df_2023['TVUpgradeEligible'] * df_2023['TVUpgradePurchaseProb']).sum()"
   ]
  },
  {
   "cell_type": "code",
   "execution_count": 28,
   "id": "fe27a89d-0265-432d-b9e6-592bb8be6055",
   "metadata": {},
   "outputs": [],
   "source": [
    "# Calculate profit under the optimal product mix\n",
    "profit_cash_loans = num_cash_loans * profit_per_cash_loan / ((1 + discount_rate) ** (cash_loan_duration / 365))\n",
    "profit_tv_upgrades = num_tv_upgrades * profit_per_tv_upgrade / ((1 + discount_rate) ** (tv_upgrade_duration / 365))\n",
    "total_profit = profit_cash_loans + profit_tv_upgrades"
   ]
  },
  {
   "cell_type": "code",
   "execution_count": 29,
   "id": "1b0d0d03-e763-4baa-aac5-b55db34c0d26",
   "metadata": {},
   "outputs": [
    {
     "name": "stdout",
     "output_type": "stream",
     "text": [
      "1) Number of cash loans sold in 2023: 10\n",
      "   Number of TV upgrades sold in 2023: 6\n",
      "2) Profit under the optimal product mix in 2023: $ 1131.66\n"
     ]
    }
   ],
   "source": [
    "# Print results\n",
    "print(\"1) Number of cash loans sold in 2023:\", int(num_cash_loans))\n",
    "print(\"   Number of TV upgrades sold in 2023:\", int(num_tv_upgrades))\n",
    "print(\"2) Profit under the optimal product mix in 2023: $\", round(total_profit, 2))"
   ]
  },
  {
   "cell_type": "markdown",
   "id": "d32efaeb-5d38-4f40-93a2-9a3cf1f2452b",
   "metadata": {},
   "source": [
    "## 3) Potential Adjustments to Business Rules to Improve Profitability:\n",
    "\n",
    "- **Adjust Eligibility Criteria**: Evaluate and adjust the eligibility criteria for cash loans and TV upgrades based on customer behavior, demographics, or other relevant factors. For example, you could refine the threshold for eligibility based on the volume of units sold.\n",
    "\n",
    "- **Modify Purchase Probabilities**: Experiment with different purchase probabilities for cash loans and TV upgrades to optimize sales. You could conduct A/B testing or use predictive modeling to determine the most effective purchase probabilities.\n",
    "\n",
    "- **Optimize Loan Durations**: Review and adjust the duration of cash loans and TV upgrades to maximize profitability. Consider factors such as customer repayment behavior and market trends to determine the optimal loan durations.\n",
    "\n",
    "- **Explore Pricing Strategies**: Evaluate pricing strategies for cash loans and TV upgrades to enhance profitability. This could involve adjusting profit margins, offering discounts or incentives, or implementing dynamic pricing based on demand.\n"
   ]
  },
  {
   "cell_type": "markdown",
   "id": "b44ba833-6de5-48c9-a355-f2ff6da9d2ab",
   "metadata": {},
   "source": [
    "## 4) Operational Improvements to Investigate to Improve Profitability:\n",
    "\n",
    "- **Customer Segmentation**: Analyze customer segments to identify high-value customers with a higher propensity to purchase cash loans or TV upgrades. Tailor marketing strategies and product offerings to target these segments effectively.\n",
    "\n",
    "- **Enhance Sales Processes**: Streamline and optimize sales processes to improve conversion rates and reduce acquisition costs. This could involve implementing automation, improving customer engagement strategies, or enhancing the user experience.\n",
    "\n",
    "- **Risk Management**: Implement robust risk management practices to mitigate default risks associated with cash loans. Develop credit scoring models or risk assessment frameworks to identify and manage credit risks effectively.\n",
    "\n",
    "- **Data Analysis and Insights**: Leverage advanced analytics and data-driven insights to gain a deeper understanding of customer behavior, market dynamics, and competitive landscape. Use predictive modeling and forecasting techniques to anticipate trends and make informed business decisions.\n"
   ]
  },
  {
   "cell_type": "code",
   "execution_count": null,
   "id": "3353a412-d557-4112-bcf1-23b1f33de46e",
   "metadata": {},
   "outputs": [],
   "source": []
  }
 ],
 "metadata": {
  "kernelspec": {
   "display_name": "Python 3 (ipykernel)",
   "language": "python",
   "name": "python3"
  },
  "language_info": {
   "codemirror_mode": {
    "name": "ipython",
    "version": 3
   },
   "file_extension": ".py",
   "mimetype": "text/x-python",
   "name": "python",
   "nbconvert_exporter": "python",
   "pygments_lexer": "ipython3",
   "version": "3.11.5"
  }
 },
 "nbformat": 4,
 "nbformat_minor": 5
}
